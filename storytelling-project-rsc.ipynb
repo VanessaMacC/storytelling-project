{
 "cells": [
  {
   "cell_type": "code",
   "execution_count": 1,
   "metadata": {},
   "outputs": [],
   "source": [
    "import numpy as np\n",
    "import pandas as pd\n",
    "from scipy import stats\n",
    "from scipy.stats import t, sem\n",
    "import statsmodels"
   ]
  },
  {
   "cell_type": "code",
   "execution_count": 2,
   "metadata": {},
   "outputs": [],
   "source": [
    "brew_pd = pd.read_csv('./datasets_435758_1357819_checkins.csv', engine = 'python')"
   ]
  },
  {
   "cell_type": "code",
   "execution_count": 3,
   "metadata": {},
   "outputs": [],
   "source": [
    "#print(brew_pd.shape)\n",
    "#print(brew_pd.dtypes)"
   ]
  },
  {
   "cell_type": "code",
   "execution_count": 4,
   "metadata": {},
   "outputs": [],
   "source": [
    "#brew_pd.duplicated().value_counts()"
   ]
  },
  {
   "cell_type": "code",
   "execution_count": 5,
   "metadata": {},
   "outputs": [],
   "source": [
    "#brew_pd.describe()"
   ]
  },
  {
   "cell_type": "code",
   "execution_count": 6,
   "metadata": {},
   "outputs": [],
   "source": [
    "#brew_pd.isna().sum()"
   ]
  },
  {
   "cell_type": "code",
   "execution_count": 7,
   "metadata": {},
   "outputs": [],
   "source": [
    "#brew_pd.head()"
   ]
  },
  {
   "cell_type": "code",
   "execution_count": 8,
   "metadata": {},
   "outputs": [
    {
     "data": {
      "text/plain": [
       "Index(['checkin_id', 'created_at', 'checkin_comment', 'rating_score',\n",
       "       'user_id', 'user_name', 'beer_id', 'beer_name', 'beer_style',\n",
       "       'beer_slug', 'beer_abv', 'beer_link', 'brewery_id', 'brewery_name',\n",
       "       'brewery_type', 'brewery_country', 'brewery_city', 'brewery_link',\n",
       "       'source_app', 'toasts_count', 'venue_id', 'venue_name', 'venue_country',\n",
       "       'venue_city', 'venue_lat', 'venue_lng', 'avg_rating', 'ratings_count',\n",
       "       'checkins_count'],\n",
       "      dtype='object')"
      ]
     },
     "execution_count": 8,
     "metadata": {},
     "output_type": "execute_result"
    }
   ],
   "source": [
    "brew_pd.columns"
   ]
  },
  {
   "cell_type": "code",
   "execution_count": 44,
   "metadata": {},
   "outputs": [],
   "source": [
    "brew_pd_resume = brew_pd[['checkin_id', 'created_at', 'rating_score', 'user_id', 'beer_id', 'beer_name', 'beer_style', 'beer_slug', 'brewery_name', 'brewery_country', 'brewery_city', 'venue_country', 'venue_city']]"
   ]
  },
  {
   "cell_type": "code",
   "execution_count": 45,
   "metadata": {
    "scrolled": true
   },
   "outputs": [
    {
     "data": {
      "text/html": [
       "<div>\n",
       "<style scoped>\n",
       "    .dataframe tbody tr th:only-of-type {\n",
       "        vertical-align: middle;\n",
       "    }\n",
       "\n",
       "    .dataframe tbody tr th {\n",
       "        vertical-align: top;\n",
       "    }\n",
       "\n",
       "    .dataframe thead th {\n",
       "        text-align: right;\n",
       "    }\n",
       "</style>\n",
       "<table border=\"1\" class=\"dataframe\">\n",
       "  <thead>\n",
       "    <tr style=\"text-align: right;\">\n",
       "      <th></th>\n",
       "      <th>checkin_id</th>\n",
       "      <th>created_at</th>\n",
       "      <th>rating_score</th>\n",
       "      <th>user_id</th>\n",
       "      <th>beer_id</th>\n",
       "      <th>beer_name</th>\n",
       "      <th>beer_style</th>\n",
       "      <th>beer_slug</th>\n",
       "      <th>brewery_name</th>\n",
       "      <th>brewery_country</th>\n",
       "      <th>brewery_city</th>\n",
       "      <th>venue_country</th>\n",
       "      <th>venue_city</th>\n",
       "    </tr>\n",
       "  </thead>\n",
       "  <tbody>\n",
       "    <tr>\n",
       "      <th>0</th>\n",
       "      <td>920012809</td>\n",
       "      <td>Sun, 19 Jul 2020 21:00:16 +0000</td>\n",
       "      <td>4.00</td>\n",
       "      <td>1279815</td>\n",
       "      <td>3459729</td>\n",
       "      <td>Доза [Mango + Passion Fruit]</td>\n",
       "      <td>Sour - Fruited</td>\n",
       "      <td>4brewers-doza-mango-passion-fruit</td>\n",
       "      <td>4BREWERS</td>\n",
       "      <td>Russia</td>\n",
       "      <td>Vladimir</td>\n",
       "      <td>Беларусь</td>\n",
       "      <td>Minsk</td>\n",
       "    </tr>\n",
       "    <tr>\n",
       "      <th>1</th>\n",
       "      <td>919968334</td>\n",
       "      <td>Sun, 19 Jul 2020 19:45:46 +0000</td>\n",
       "      <td>4.00</td>\n",
       "      <td>1279815</td>\n",
       "      <td>3871898</td>\n",
       "      <td>Доза [Mango + Peach + Orange]</td>\n",
       "      <td>Sour - Fruited</td>\n",
       "      <td>4brewers-doza-mango-peach-orange</td>\n",
       "      <td>4BREWERS</td>\n",
       "      <td>Russia</td>\n",
       "      <td>Vladimir</td>\n",
       "      <td>Беларусь</td>\n",
       "      <td>Minsk</td>\n",
       "    </tr>\n",
       "    <tr>\n",
       "      <th>2</th>\n",
       "      <td>919919437</td>\n",
       "      <td>Sun, 19 Jul 2020 18:27:00 +0000</td>\n",
       "      <td>3.75</td>\n",
       "      <td>1279815</td>\n",
       "      <td>3861542</td>\n",
       "      <td>Lobster On Acid</td>\n",
       "      <td>Sour - Fruited Gose</td>\n",
       "      <td>wild-lab-lobster-on-acid</td>\n",
       "      <td>Wild Lab</td>\n",
       "      <td>Russia</td>\n",
       "      <td>Moscow</td>\n",
       "      <td>Беларусь</td>\n",
       "      <td>Minsk</td>\n",
       "    </tr>\n",
       "    <tr>\n",
       "      <th>3</th>\n",
       "      <td>919910138</td>\n",
       "      <td>Sun, 19 Jul 2020 18:11:06 +0000</td>\n",
       "      <td>4.25</td>\n",
       "      <td>1279815</td>\n",
       "      <td>2575473</td>\n",
       "      <td>Жажда [Облепиха]</td>\n",
       "      <td>Sour - Fruited Gose</td>\n",
       "      <td>4brewers-zhazhda-oblepiha</td>\n",
       "      <td>4BREWERS</td>\n",
       "      <td>Russia</td>\n",
       "      <td>Vladimir</td>\n",
       "      <td>Беларусь</td>\n",
       "      <td>Minsk</td>\n",
       "    </tr>\n",
       "    <tr>\n",
       "      <th>4</th>\n",
       "      <td>919904871</td>\n",
       "      <td>Sun, 19 Jul 2020 18:01:35 +0000</td>\n",
       "      <td>4.25</td>\n",
       "      <td>1279815</td>\n",
       "      <td>3840474</td>\n",
       "      <td>Balloon</td>\n",
       "      <td>Sour - Fruited</td>\n",
       "      <td>red-button-brewery-baloon</td>\n",
       "      <td>Red Button Brewery</td>\n",
       "      <td>Russia</td>\n",
       "      <td>Moscow</td>\n",
       "      <td>Беларусь</td>\n",
       "      <td>Minsk</td>\n",
       "    </tr>\n",
       "  </tbody>\n",
       "</table>\n",
       "</div>"
      ],
      "text/plain": [
       "   checkin_id                       created_at  rating_score  user_id  \\\n",
       "0   920012809  Sun, 19 Jul 2020 21:00:16 +0000          4.00  1279815   \n",
       "1   919968334  Sun, 19 Jul 2020 19:45:46 +0000          4.00  1279815   \n",
       "2   919919437  Sun, 19 Jul 2020 18:27:00 +0000          3.75  1279815   \n",
       "3   919910138  Sun, 19 Jul 2020 18:11:06 +0000          4.25  1279815   \n",
       "4   919904871  Sun, 19 Jul 2020 18:01:35 +0000          4.25  1279815   \n",
       "\n",
       "   beer_id                      beer_name           beer_style  \\\n",
       "0  3459729   Доза [Mango + Passion Fruit]       Sour - Fruited   \n",
       "1  3871898  Доза [Mango + Peach + Orange]       Sour - Fruited   \n",
       "2  3861542                Lobster On Acid  Sour - Fruited Gose   \n",
       "3  2575473               Жажда [Облепиха]  Sour - Fruited Gose   \n",
       "4  3840474                        Balloon       Sour - Fruited   \n",
       "\n",
       "                           beer_slug        brewery_name brewery_country  \\\n",
       "0  4brewers-doza-mango-passion-fruit            4BREWERS          Russia   \n",
       "1   4brewers-doza-mango-peach-orange            4BREWERS          Russia   \n",
       "2           wild-lab-lobster-on-acid            Wild Lab          Russia   \n",
       "3          4brewers-zhazhda-oblepiha            4BREWERS          Russia   \n",
       "4          red-button-brewery-baloon  Red Button Brewery          Russia   \n",
       "\n",
       "  brewery_city venue_country venue_city  \n",
       "0     Vladimir      Беларусь      Minsk  \n",
       "1     Vladimir      Беларусь      Minsk  \n",
       "2       Moscow      Беларусь      Minsk  \n",
       "3     Vladimir      Беларусь      Minsk  \n",
       "4       Moscow      Беларусь      Minsk  "
      ]
     },
     "execution_count": 45,
     "metadata": {},
     "output_type": "execute_result"
    }
   ],
   "source": [
    "brew_pd_resume.head()"
   ]
  },
  {
   "cell_type": "code",
   "execution_count": 46,
   "metadata": {
    "scrolled": true
   },
   "outputs": [],
   "source": [
    "#brew_pd_resume.info()"
   ]
  },
  {
   "cell_type": "code",
   "execution_count": 47,
   "metadata": {},
   "outputs": [
    {
     "data": {
      "text/plain": [
       "Беларусь         2105\n",
       "Latvija            65\n",
       "Lietuva            61\n",
       "Россия             35\n",
       "Eesti              28\n",
       "United States       2\n",
       "Name: venue_country, dtype: int64"
      ]
     },
     "execution_count": 47,
     "metadata": {},
     "output_type": "execute_result"
    }
   ],
   "source": [
    "brew_pd_resume['venue_country'].value_counts()"
   ]
  },
  {
   "cell_type": "code",
   "execution_count": null,
   "metadata": {},
   "outputs": [],
   "source": []
  }
 ],
 "metadata": {
  "kernelspec": {
   "display_name": "Python 3",
   "language": "python",
   "name": "python3"
  },
  "language_info": {
   "codemirror_mode": {
    "name": "ipython",
    "version": 3
   },
   "file_extension": ".py",
   "mimetype": "text/x-python",
   "name": "python",
   "nbconvert_exporter": "python",
   "pygments_lexer": "ipython3",
   "version": "3.8.5"
  }
 },
 "nbformat": 4,
 "nbformat_minor": 4
}
