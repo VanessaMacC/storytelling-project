{
 "cells": [
  {
   "cell_type": "code",
   "execution_count": 68,
   "metadata": {},
   "outputs": [],
   "source": [
    "#Se importan las librerías y módulos necesarios\n",
    "import numpy as np\n",
    "import pandas as pd\n",
    "import re\n",
    "import calendar\n",
    "import datetime\n",
    "import warnings\n",
    "warnings.filterwarnings(\"ignore\")\n",
    "from rsc.functions import *"
   ]
  },
  {
   "cell_type": "code",
   "execution_count": 43,
   "metadata": {},
   "outputs": [],
   "source": [
    "#Se carga el csv seleccionado para crear el dataframe\n",
    "brew_df = pd.read_csv('./input/datasets_435758_1357819_checkins.csv', engine = 'python')"
   ]
  },
  {
   "cell_type": "code",
   "execution_count": 44,
   "metadata": {},
   "outputs": [],
   "source": [
    "#Se realizan diferentes comprobaciones para analizar las columnas y los registros\n",
    "#print(brew_pd.shape)\n",
    "#print(brew_pd.dtypes)"
   ]
  },
  {
   "cell_type": "code",
   "execution_count": 45,
   "metadata": {},
   "outputs": [],
   "source": [
    "#brew_pd.duplicated().value_counts()"
   ]
  },
  {
   "cell_type": "code",
   "execution_count": 46,
   "metadata": {},
   "outputs": [],
   "source": [
    "#brew_pd.describe()"
   ]
  },
  {
   "cell_type": "code",
   "execution_count": 47,
   "metadata": {},
   "outputs": [],
   "source": [
    "#brew_pd.isna().sum()"
   ]
  },
  {
   "cell_type": "code",
   "execution_count": 48,
   "metadata": {},
   "outputs": [],
   "source": [
    "#brew_pd.head()"
   ]
  },
  {
   "cell_type": "code",
   "execution_count": 49,
   "metadata": {},
   "outputs": [],
   "source": [
    "#brew_df.columns"
   ]
  },
  {
   "cell_type": "code",
   "execution_count": 50,
   "metadata": {},
   "outputs": [],
   "source": [
    "#Sobreescribo el df para quedarme con las columnas que son más significativas\n",
    "brew_df_resume=brew_df[['checkin_id', 'created_at', 'rating_score', 'user_id', 'beer_id', 'beer_name', 'beer_style', 'beer_slug', 'brewery_name', 'brewery_country', 'brewery_city', 'venue_country', 'venue_city']]"
   ]
  },
  {
   "cell_type": "code",
   "execution_count": 51,
   "metadata": {
    "scrolled": false
   },
   "outputs": [
    {
     "data": {
      "text/html": [
       "<div>\n",
       "<style scoped>\n",
       "    .dataframe tbody tr th:only-of-type {\n",
       "        vertical-align: middle;\n",
       "    }\n",
       "\n",
       "    .dataframe tbody tr th {\n",
       "        vertical-align: top;\n",
       "    }\n",
       "\n",
       "    .dataframe thead th {\n",
       "        text-align: right;\n",
       "    }\n",
       "</style>\n",
       "<table border=\"1\" class=\"dataframe\">\n",
       "  <thead>\n",
       "    <tr style=\"text-align: right;\">\n",
       "      <th></th>\n",
       "      <th>checkin_id</th>\n",
       "      <th>created_at</th>\n",
       "      <th>rating_score</th>\n",
       "      <th>user_id</th>\n",
       "      <th>beer_id</th>\n",
       "      <th>beer_name</th>\n",
       "      <th>beer_style</th>\n",
       "      <th>beer_slug</th>\n",
       "      <th>brewery_name</th>\n",
       "      <th>brewery_country</th>\n",
       "      <th>brewery_city</th>\n",
       "      <th>venue_country</th>\n",
       "      <th>venue_city</th>\n",
       "    </tr>\n",
       "  </thead>\n",
       "  <tbody>\n",
       "    <tr>\n",
       "      <th>0</th>\n",
       "      <td>920012809</td>\n",
       "      <td>Sun, 19 Jul 2020 21:00:16 +0000</td>\n",
       "      <td>4.00</td>\n",
       "      <td>1279815</td>\n",
       "      <td>3459729</td>\n",
       "      <td>Доза [Mango + Passion Fruit]</td>\n",
       "      <td>Sour - Fruited</td>\n",
       "      <td>4brewers-doza-mango-passion-fruit</td>\n",
       "      <td>4BREWERS</td>\n",
       "      <td>Russia</td>\n",
       "      <td>Vladimir</td>\n",
       "      <td>Беларусь</td>\n",
       "      <td>Minsk</td>\n",
       "    </tr>\n",
       "    <tr>\n",
       "      <th>1</th>\n",
       "      <td>919968334</td>\n",
       "      <td>Sun, 19 Jul 2020 19:45:46 +0000</td>\n",
       "      <td>4.00</td>\n",
       "      <td>1279815</td>\n",
       "      <td>3871898</td>\n",
       "      <td>Доза [Mango + Peach + Orange]</td>\n",
       "      <td>Sour - Fruited</td>\n",
       "      <td>4brewers-doza-mango-peach-orange</td>\n",
       "      <td>4BREWERS</td>\n",
       "      <td>Russia</td>\n",
       "      <td>Vladimir</td>\n",
       "      <td>Беларусь</td>\n",
       "      <td>Minsk</td>\n",
       "    </tr>\n",
       "    <tr>\n",
       "      <th>2</th>\n",
       "      <td>919919437</td>\n",
       "      <td>Sun, 19 Jul 2020 18:27:00 +0000</td>\n",
       "      <td>3.75</td>\n",
       "      <td>1279815</td>\n",
       "      <td>3861542</td>\n",
       "      <td>Lobster On Acid</td>\n",
       "      <td>Sour - Fruited Gose</td>\n",
       "      <td>wild-lab-lobster-on-acid</td>\n",
       "      <td>Wild Lab</td>\n",
       "      <td>Russia</td>\n",
       "      <td>Moscow</td>\n",
       "      <td>Беларусь</td>\n",
       "      <td>Minsk</td>\n",
       "    </tr>\n",
       "    <tr>\n",
       "      <th>3</th>\n",
       "      <td>919910138</td>\n",
       "      <td>Sun, 19 Jul 2020 18:11:06 +0000</td>\n",
       "      <td>4.25</td>\n",
       "      <td>1279815</td>\n",
       "      <td>2575473</td>\n",
       "      <td>Жажда [Облепиха]</td>\n",
       "      <td>Sour - Fruited Gose</td>\n",
       "      <td>4brewers-zhazhda-oblepiha</td>\n",
       "      <td>4BREWERS</td>\n",
       "      <td>Russia</td>\n",
       "      <td>Vladimir</td>\n",
       "      <td>Беларусь</td>\n",
       "      <td>Minsk</td>\n",
       "    </tr>\n",
       "    <tr>\n",
       "      <th>4</th>\n",
       "      <td>919904871</td>\n",
       "      <td>Sun, 19 Jul 2020 18:01:35 +0000</td>\n",
       "      <td>4.25</td>\n",
       "      <td>1279815</td>\n",
       "      <td>3840474</td>\n",
       "      <td>Balloon</td>\n",
       "      <td>Sour - Fruited</td>\n",
       "      <td>red-button-brewery-baloon</td>\n",
       "      <td>Red Button Brewery</td>\n",
       "      <td>Russia</td>\n",
       "      <td>Moscow</td>\n",
       "      <td>Беларусь</td>\n",
       "      <td>Minsk</td>\n",
       "    </tr>\n",
       "  </tbody>\n",
       "</table>\n",
       "</div>"
      ],
      "text/plain": [
       "   checkin_id                       created_at  rating_score  user_id  \\\n",
       "0   920012809  Sun, 19 Jul 2020 21:00:16 +0000          4.00  1279815   \n",
       "1   919968334  Sun, 19 Jul 2020 19:45:46 +0000          4.00  1279815   \n",
       "2   919919437  Sun, 19 Jul 2020 18:27:00 +0000          3.75  1279815   \n",
       "3   919910138  Sun, 19 Jul 2020 18:11:06 +0000          4.25  1279815   \n",
       "4   919904871  Sun, 19 Jul 2020 18:01:35 +0000          4.25  1279815   \n",
       "\n",
       "   beer_id                      beer_name           beer_style  \\\n",
       "0  3459729   Доза [Mango + Passion Fruit]       Sour - Fruited   \n",
       "1  3871898  Доза [Mango + Peach + Orange]       Sour - Fruited   \n",
       "2  3861542                Lobster On Acid  Sour - Fruited Gose   \n",
       "3  2575473               Жажда [Облепиха]  Sour - Fruited Gose   \n",
       "4  3840474                        Balloon       Sour - Fruited   \n",
       "\n",
       "                           beer_slug        brewery_name brewery_country  \\\n",
       "0  4brewers-doza-mango-passion-fruit            4BREWERS          Russia   \n",
       "1   4brewers-doza-mango-peach-orange            4BREWERS          Russia   \n",
       "2           wild-lab-lobster-on-acid            Wild Lab          Russia   \n",
       "3          4brewers-zhazhda-oblepiha            4BREWERS          Russia   \n",
       "4          red-button-brewery-baloon  Red Button Brewery          Russia   \n",
       "\n",
       "  brewery_city venue_country venue_city  \n",
       "0     Vladimir      Беларусь      Minsk  \n",
       "1     Vladimir      Беларусь      Minsk  \n",
       "2       Moscow      Беларусь      Minsk  \n",
       "3     Vladimir      Беларусь      Minsk  \n",
       "4       Moscow      Беларусь      Minsk  "
      ]
     },
     "execution_count": 51,
     "metadata": {},
     "output_type": "execute_result"
    }
   ],
   "source": [
    "brew_df_resume.head()"
   ]
  },
  {
   "cell_type": "code",
   "execution_count": 52,
   "metadata": {},
   "outputs": [],
   "source": [
    "# Cambio el tipo de dato de la columna por una fecha\n",
    "brew_df_resume['created_at']=pd.to_datetime(brew_df_resume['created_at']) "
   ]
  },
  {
   "cell_type": "code",
   "execution_count": 53,
   "metadata": {},
   "outputs": [],
   "source": [
    "#Aplico una función para quedarme con  el año\n",
    "brew_df_resume['created_at']=brew_df_resume['created_at'].apply(lambda x: x.strftime('%Y'))"
   ]
  },
  {
   "cell_type": "code",
   "execution_count": 54,
   "metadata": {},
   "outputs": [],
   "source": [
    "#Cambio los valores nulos porque la función traductor me daba una error \n",
    "brew_df_resume['venue_country'] = brew_df_resume['venue_country'].fillna(0).astype(str)"
   ]
  },
  {
   "cell_type": "code",
   "execution_count": 55,
   "metadata": {},
   "outputs": [],
   "source": [
    "#No he sabido importarme la función del archivo .py\n",
    "def translate_cyrillyc(text):\n",
    "        symbols = (u\"абвгдеёжзийклмнопрстуфхцчшщъыьэюяАБВГДЕЁЖЗИЙКЛМНОПРСТУФХЦЧШЩЪЫЬЭЮЯ\",\n",
    "                   u\"abvgdeejzijklmnuprstufhzcss_y_euaABVGDEEJZIJKLMNOPRSTUFHZCSS_Y_EUA\")\n",
    "        tr = {ord(a):ord(b) for a, b in zip(*symbols)}\n",
    "        return str(text.translate(tr))"
   ]
  },
  {
   "cell_type": "code",
   "execution_count": 56,
   "metadata": {},
   "outputs": [],
   "source": [
    "brew_df_resume['venue_country']=brew_df_resume['venue_country'].apply(lambda x: translate_cyrillyc(x))"
   ]
  },
  {
   "cell_type": "code",
   "execution_count": 34,
   "metadata": {},
   "outputs": [
    {
     "data": {
      "text/plain": [
       "Belarus_         2105\n",
       "Latvija            65\n",
       "Lietuva            61\n",
       "Russia             35\n",
       "Eesti              28\n",
       "0                   9\n",
       "United States       2\n",
       "Name: venue_country, dtype: int64"
      ]
     },
     "execution_count": 34,
     "metadata": {},
     "output_type": "execute_result"
    }
   ],
   "source": [
    "brew_df_resume['venue_country'].value_counts()"
   ]
  },
  {
   "cell_type": "code",
   "execution_count": 57,
   "metadata": {},
   "outputs": [],
   "source": [
    "#Elimino el último carácter tras pasar el traductor 'Belarus_'\n",
    "brew_df_resume['venue_country'] = brew_df_resume['venue_country'].map(lambda x: x.rstrip('_'))"
   ]
  },
  {
   "cell_type": "code",
   "execution_count": 58,
   "metadata": {},
   "outputs": [
    {
     "data": {
      "text/html": [
       "<div>\n",
       "<style scoped>\n",
       "    .dataframe tbody tr th:only-of-type {\n",
       "        vertical-align: middle;\n",
       "    }\n",
       "\n",
       "    .dataframe tbody tr th {\n",
       "        vertical-align: top;\n",
       "    }\n",
       "\n",
       "    .dataframe thead th {\n",
       "        text-align: right;\n",
       "    }\n",
       "</style>\n",
       "<table border=\"1\" class=\"dataframe\">\n",
       "  <thead>\n",
       "    <tr style=\"text-align: right;\">\n",
       "      <th></th>\n",
       "      <th>checkin_id</th>\n",
       "      <th>created_at</th>\n",
       "      <th>rating_score</th>\n",
       "      <th>user_id</th>\n",
       "      <th>beer_id</th>\n",
       "      <th>beer_name</th>\n",
       "      <th>beer_style</th>\n",
       "      <th>beer_slug</th>\n",
       "      <th>brewery_name</th>\n",
       "      <th>brewery_country</th>\n",
       "      <th>brewery_city</th>\n",
       "      <th>venue_country</th>\n",
       "      <th>venue_city</th>\n",
       "    </tr>\n",
       "  </thead>\n",
       "  <tbody>\n",
       "    <tr>\n",
       "      <th>0</th>\n",
       "      <td>920012809</td>\n",
       "      <td>2020</td>\n",
       "      <td>4.00</td>\n",
       "      <td>1279815</td>\n",
       "      <td>3459729</td>\n",
       "      <td>Доза [Mango + Passion Fruit]</td>\n",
       "      <td>Sour - Fruited</td>\n",
       "      <td>4brewers-doza-mango-passion-fruit</td>\n",
       "      <td>4BREWERS</td>\n",
       "      <td>Russia</td>\n",
       "      <td>Vladimir</td>\n",
       "      <td>Belarus</td>\n",
       "      <td>Minsk</td>\n",
       "    </tr>\n",
       "    <tr>\n",
       "      <th>1</th>\n",
       "      <td>919968334</td>\n",
       "      <td>2020</td>\n",
       "      <td>4.00</td>\n",
       "      <td>1279815</td>\n",
       "      <td>3871898</td>\n",
       "      <td>Доза [Mango + Peach + Orange]</td>\n",
       "      <td>Sour - Fruited</td>\n",
       "      <td>4brewers-doza-mango-peach-orange</td>\n",
       "      <td>4BREWERS</td>\n",
       "      <td>Russia</td>\n",
       "      <td>Vladimir</td>\n",
       "      <td>Belarus</td>\n",
       "      <td>Minsk</td>\n",
       "    </tr>\n",
       "    <tr>\n",
       "      <th>2</th>\n",
       "      <td>919919437</td>\n",
       "      <td>2020</td>\n",
       "      <td>3.75</td>\n",
       "      <td>1279815</td>\n",
       "      <td>3861542</td>\n",
       "      <td>Lobster On Acid</td>\n",
       "      <td>Sour - Fruited Gose</td>\n",
       "      <td>wild-lab-lobster-on-acid</td>\n",
       "      <td>Wild Lab</td>\n",
       "      <td>Russia</td>\n",
       "      <td>Moscow</td>\n",
       "      <td>Belarus</td>\n",
       "      <td>Minsk</td>\n",
       "    </tr>\n",
       "    <tr>\n",
       "      <th>3</th>\n",
       "      <td>919910138</td>\n",
       "      <td>2020</td>\n",
       "      <td>4.25</td>\n",
       "      <td>1279815</td>\n",
       "      <td>2575473</td>\n",
       "      <td>Жажда [Облепиха]</td>\n",
       "      <td>Sour - Fruited Gose</td>\n",
       "      <td>4brewers-zhazhda-oblepiha</td>\n",
       "      <td>4BREWERS</td>\n",
       "      <td>Russia</td>\n",
       "      <td>Vladimir</td>\n",
       "      <td>Belarus</td>\n",
       "      <td>Minsk</td>\n",
       "    </tr>\n",
       "    <tr>\n",
       "      <th>4</th>\n",
       "      <td>919904871</td>\n",
       "      <td>2020</td>\n",
       "      <td>4.25</td>\n",
       "      <td>1279815</td>\n",
       "      <td>3840474</td>\n",
       "      <td>Balloon</td>\n",
       "      <td>Sour - Fruited</td>\n",
       "      <td>red-button-brewery-baloon</td>\n",
       "      <td>Red Button Brewery</td>\n",
       "      <td>Russia</td>\n",
       "      <td>Moscow</td>\n",
       "      <td>Belarus</td>\n",
       "      <td>Minsk</td>\n",
       "    </tr>\n",
       "  </tbody>\n",
       "</table>\n",
       "</div>"
      ],
      "text/plain": [
       "   checkin_id created_at  rating_score  user_id  beer_id  \\\n",
       "0   920012809       2020          4.00  1279815  3459729   \n",
       "1   919968334       2020          4.00  1279815  3871898   \n",
       "2   919919437       2020          3.75  1279815  3861542   \n",
       "3   919910138       2020          4.25  1279815  2575473   \n",
       "4   919904871       2020          4.25  1279815  3840474   \n",
       "\n",
       "                       beer_name           beer_style  \\\n",
       "0   Доза [Mango + Passion Fruit]       Sour - Fruited   \n",
       "1  Доза [Mango + Peach + Orange]       Sour - Fruited   \n",
       "2                Lobster On Acid  Sour - Fruited Gose   \n",
       "3               Жажда [Облепиха]  Sour - Fruited Gose   \n",
       "4                        Balloon       Sour - Fruited   \n",
       "\n",
       "                           beer_slug        brewery_name brewery_country  \\\n",
       "0  4brewers-doza-mango-passion-fruit            4BREWERS          Russia   \n",
       "1   4brewers-doza-mango-peach-orange            4BREWERS          Russia   \n",
       "2           wild-lab-lobster-on-acid            Wild Lab          Russia   \n",
       "3          4brewers-zhazhda-oblepiha            4BREWERS          Russia   \n",
       "4          red-button-brewery-baloon  Red Button Brewery          Russia   \n",
       "\n",
       "  brewery_city venue_country venue_city  \n",
       "0     Vladimir       Belarus      Minsk  \n",
       "1     Vladimir       Belarus      Minsk  \n",
       "2       Moscow       Belarus      Minsk  \n",
       "3     Vladimir       Belarus      Minsk  \n",
       "4       Moscow       Belarus      Minsk  "
      ]
     },
     "execution_count": 58,
     "metadata": {},
     "output_type": "execute_result"
    }
   ],
   "source": [
    "brew_df_resume.head()"
   ]
  },
  {
   "cell_type": "code",
   "execution_count": 70,
   "metadata": {},
   "outputs": [],
   "source": [
    "#Exporto el df a un nuevo archivo csv\n",
    "brew_df_resume.to_csv(r'export_dataframe.csv', index = False, header=True)"
   ]
  },
  {
   "cell_type": "code",
   "execution_count": null,
   "metadata": {},
   "outputs": [],
   "source": []
  }
 ],
 "metadata": {
  "kernelspec": {
   "display_name": "Python 3",
   "language": "python",
   "name": "python3"
  },
  "language_info": {
   "codemirror_mode": {
    "name": "ipython",
    "version": 3
   },
   "file_extension": ".py",
   "mimetype": "text/x-python",
   "name": "python",
   "nbconvert_exporter": "python",
   "pygments_lexer": "ipython3",
   "version": "3.8.5"
  }
 },
 "nbformat": 4,
 "nbformat_minor": 4
}
