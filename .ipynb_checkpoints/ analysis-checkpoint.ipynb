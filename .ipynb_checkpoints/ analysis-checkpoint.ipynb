{
 "cells": [
  {
   "cell_type": "code",
   "execution_count": 11,
   "metadata": {},
   "outputs": [],
   "source": [
    "#Se importan las librerías y módulos necesarios\n",
    "\n",
    "import warnings\n",
    "warnings.filterwarnings(\"ignore\")\n",
    "import statsmodels\n",
    "import numpy as np\n",
    "import pandas as pd\n",
    "import matplotlib.pyplot as plt\n",
    "import seaborn as sns\n",
    "%matplotlib inline\n",
    "import math\n",
    "from scipy import stats\n",
    "from scipy.stats import t, sem"
   ]
  },
  {
   "cell_type": "code",
   "execution_count": 12,
   "metadata": {},
   "outputs": [],
   "source": [
    "#Se carga el csv seleccionado para crear el dataframe\n",
    "brew_df = pd.read_csv('./input/export_dataframe.csv', engine = 'python')"
   ]
  },
  {
   "cell_type": "code",
   "execution_count": 60,
   "metadata": {},
   "outputs": [
    {
     "data": {
      "text/plain": [
       "Index(['checkin_id', 'created_at', 'rating_score', 'user_id', 'beer_id',\n",
       "       'beer_name', 'beer_style', 'beer_slug', 'brewery_name',\n",
       "       'brewery_country', 'brewery_city', 'venue_country', 'venue_city'],\n",
       "      dtype='object')"
      ]
     },
     "execution_count": 60,
     "metadata": {},
     "output_type": "execute_result"
    }
   ],
   "source": [
    "brew_df.columns"
   ]
  },
  {
   "cell_type": "code",
   "execution_count": 13,
   "metadata": {},
   "outputs": [
    {
     "data": {
      "text/html": [
       "<div>\n",
       "<style scoped>\n",
       "    .dataframe tbody tr th:only-of-type {\n",
       "        vertical-align: middle;\n",
       "    }\n",
       "\n",
       "    .dataframe tbody tr th {\n",
       "        vertical-align: top;\n",
       "    }\n",
       "\n",
       "    .dataframe thead th {\n",
       "        text-align: right;\n",
       "    }\n",
       "</style>\n",
       "<table border=\"1\" class=\"dataframe\">\n",
       "  <thead>\n",
       "    <tr style=\"text-align: right;\">\n",
       "      <th></th>\n",
       "      <th>checkin_id</th>\n",
       "      <th>created_at</th>\n",
       "      <th>rating_score</th>\n",
       "      <th>user_id</th>\n",
       "      <th>beer_id</th>\n",
       "      <th>beer_name</th>\n",
       "      <th>beer_style</th>\n",
       "      <th>beer_slug</th>\n",
       "      <th>brewery_name</th>\n",
       "      <th>brewery_country</th>\n",
       "      <th>brewery_city</th>\n",
       "      <th>venue_country</th>\n",
       "      <th>venue_city</th>\n",
       "    </tr>\n",
       "  </thead>\n",
       "  <tbody>\n",
       "    <tr>\n",
       "      <th>0</th>\n",
       "      <td>920012809</td>\n",
       "      <td>2020</td>\n",
       "      <td>4.00</td>\n",
       "      <td>1279815</td>\n",
       "      <td>3459729</td>\n",
       "      <td>Доза [Mango + Passion Fruit]</td>\n",
       "      <td>Sour - Fruited</td>\n",
       "      <td>4brewers-doza-mango-passion-fruit</td>\n",
       "      <td>4BREWERS</td>\n",
       "      <td>Russia</td>\n",
       "      <td>Vladimir</td>\n",
       "      <td>Belarus</td>\n",
       "      <td>Minsk</td>\n",
       "    </tr>\n",
       "    <tr>\n",
       "      <th>1</th>\n",
       "      <td>919968334</td>\n",
       "      <td>2020</td>\n",
       "      <td>4.00</td>\n",
       "      <td>1279815</td>\n",
       "      <td>3871898</td>\n",
       "      <td>Доза [Mango + Peach + Orange]</td>\n",
       "      <td>Sour - Fruited</td>\n",
       "      <td>4brewers-doza-mango-peach-orange</td>\n",
       "      <td>4BREWERS</td>\n",
       "      <td>Russia</td>\n",
       "      <td>Vladimir</td>\n",
       "      <td>Belarus</td>\n",
       "      <td>Minsk</td>\n",
       "    </tr>\n",
       "    <tr>\n",
       "      <th>2</th>\n",
       "      <td>919919437</td>\n",
       "      <td>2020</td>\n",
       "      <td>3.75</td>\n",
       "      <td>1279815</td>\n",
       "      <td>3861542</td>\n",
       "      <td>Lobster On Acid</td>\n",
       "      <td>Sour - Fruited Gose</td>\n",
       "      <td>wild-lab-lobster-on-acid</td>\n",
       "      <td>Wild Lab</td>\n",
       "      <td>Russia</td>\n",
       "      <td>Moscow</td>\n",
       "      <td>Belarus</td>\n",
       "      <td>Minsk</td>\n",
       "    </tr>\n",
       "    <tr>\n",
       "      <th>3</th>\n",
       "      <td>919910138</td>\n",
       "      <td>2020</td>\n",
       "      <td>4.25</td>\n",
       "      <td>1279815</td>\n",
       "      <td>2575473</td>\n",
       "      <td>Жажда [Облепиха]</td>\n",
       "      <td>Sour - Fruited Gose</td>\n",
       "      <td>4brewers-zhazhda-oblepiha</td>\n",
       "      <td>4BREWERS</td>\n",
       "      <td>Russia</td>\n",
       "      <td>Vladimir</td>\n",
       "      <td>Belarus</td>\n",
       "      <td>Minsk</td>\n",
       "    </tr>\n",
       "    <tr>\n",
       "      <th>4</th>\n",
       "      <td>919904871</td>\n",
       "      <td>2020</td>\n",
       "      <td>4.25</td>\n",
       "      <td>1279815</td>\n",
       "      <td>3840474</td>\n",
       "      <td>Balloon</td>\n",
       "      <td>Sour - Fruited</td>\n",
       "      <td>red-button-brewery-baloon</td>\n",
       "      <td>Red Button Brewery</td>\n",
       "      <td>Russia</td>\n",
       "      <td>Moscow</td>\n",
       "      <td>Belarus</td>\n",
       "      <td>Minsk</td>\n",
       "    </tr>\n",
       "  </tbody>\n",
       "</table>\n",
       "</div>"
      ],
      "text/plain": [
       "   checkin_id  created_at  rating_score  user_id  beer_id  \\\n",
       "0   920012809        2020          4.00  1279815  3459729   \n",
       "1   919968334        2020          4.00  1279815  3871898   \n",
       "2   919919437        2020          3.75  1279815  3861542   \n",
       "3   919910138        2020          4.25  1279815  2575473   \n",
       "4   919904871        2020          4.25  1279815  3840474   \n",
       "\n",
       "                       beer_name           beer_style  \\\n",
       "0   Доза [Mango + Passion Fruit]       Sour - Fruited   \n",
       "1  Доза [Mango + Peach + Orange]       Sour - Fruited   \n",
       "2                Lobster On Acid  Sour - Fruited Gose   \n",
       "3               Жажда [Облепиха]  Sour - Fruited Gose   \n",
       "4                        Balloon       Sour - Fruited   \n",
       "\n",
       "                           beer_slug        brewery_name brewery_country  \\\n",
       "0  4brewers-doza-mango-passion-fruit            4BREWERS          Russia   \n",
       "1   4brewers-doza-mango-peach-orange            4BREWERS          Russia   \n",
       "2           wild-lab-lobster-on-acid            Wild Lab          Russia   \n",
       "3          4brewers-zhazhda-oblepiha            4BREWERS          Russia   \n",
       "4          red-button-brewery-baloon  Red Button Brewery          Russia   \n",
       "\n",
       "  brewery_city venue_country venue_city  \n",
       "0     Vladimir       Belarus      Minsk  \n",
       "1     Vladimir       Belarus      Minsk  \n",
       "2       Moscow       Belarus      Minsk  \n",
       "3     Vladimir       Belarus      Minsk  \n",
       "4       Moscow       Belarus      Minsk  "
      ]
     },
     "execution_count": 13,
     "metadata": {},
     "output_type": "execute_result"
    }
   ],
   "source": [
    "brew_df.head()"
   ]
  },
  {
   "cell_type": "code",
   "execution_count": 34,
   "metadata": {},
   "outputs": [
    {
     "data": {
      "text/plain": [
       "beer_style\n",
       "Sour - Fruited                    300\n",
       "Sour - Fruited Gose               143\n",
       "IPA - American                    121\n",
       "Sour - Fruited Berliner Weisse    102\n",
       "Pale Ale - American                95\n",
       "Name: checkin_id, dtype: int64"
      ]
     },
     "execution_count": 34,
     "metadata": {},
     "output_type": "execute_result"
    }
   ],
   "source": [
    "style_cnt = brew_df.groupby(['beer_style'])['checkin_id'].count().sort_values(ascending=False).head()\n",
    "style_cnt"
   ]
  },
  {
   "cell_type": "code",
   "execution_count": 40,
   "metadata": {},
   "outputs": [
    {
     "data": {
      "text/plain": [
       "<AxesSubplot:ylabel='checkin_id'>"
      ]
     },
     "execution_count": 40,
     "metadata": {},
     "output_type": "execute_result"
    },
    {
     "data": {
      "image/png": "[encoded data removed]",
      "text/plain": [
       "<Figure size 432x288 with 1 Axes>"
      ]
     },
     "metadata": {},
     "output_type": "display_data"
    }
   ],
   "source": [
    "style_cnt.plot.pie()"
   ]
  },
  {
   "cell_type": "code",
   "execution_count": 65,
   "metadata": {},
   "outputs": [
    {
     "data": {
      "text/plain": [
       "venue_country\n",
       "Belarus    2105\n",
       "Latvija      65\n",
       "Lietuva      61\n",
       "Russia       35\n",
       "Eesti        28\n",
       "Name: checkin_id, dtype: int64"
      ]
     },
     "execution_count": 65,
     "metadata": {},
     "output_type": "execute_result"
    }
   ],
   "source": [
    "country_cnt = brew_df.groupby(['venue_country'])['checkin_id'].count().sort_values(ascending=False).head()\n",
    "country_cnt"
   ]
  },
  {
   "cell_type": "code",
   "execution_count": 66,
   "metadata": {},
   "outputs": [
    {
     "data": {
      "text/plain": [
       "<AxesSubplot:ylabel='checkin_id'>"
      ]
     },
     "execution_count": 66,
     "metadata": {},
     "output_type": "execute_result"
    },
    {
     "data": {
      "image/png": "[encoded data removed]",
      "text/plain": [
       "<Figure size 432x288 with 1 Axes>"
      ]
     },
     "metadata": {},
     "output_type": "display_data"
    }
   ],
   "source": [
    "country_cnt.plot.pie()"
   ]
  },
  {
   "cell_type": "code",
   "execution_count": 68,
   "metadata": {},
   "outputs": [
    {
     "data": {
      "text/html": [
       "<div>\n",
       "<style scoped>\n",
       "    .dataframe tbody tr th:only-of-type {\n",
       "        vertical-align: middle;\n",
       "    }\n",
       "\n",
       "    .dataframe tbody tr th {\n",
       "        vertical-align: top;\n",
       "    }\n",
       "\n",
       "    .dataframe thead th {\n",
       "        text-align: right;\n",
       "    }\n",
       "</style>\n",
       "<table border=\"1\" class=\"dataframe\">\n",
       "  <thead>\n",
       "    <tr style=\"text-align: right;\">\n",
       "      <th></th>\n",
       "      <th>checkin_id</th>\n",
       "    </tr>\n",
       "    <tr>\n",
       "      <th>created_at</th>\n",
       "      <th></th>\n",
       "    </tr>\n",
       "  </thead>\n",
       "  <tbody>\n",
       "    <tr>\n",
       "      <th>2017</th>\n",
       "      <td>13</td>\n",
       "    </tr>\n",
       "    <tr>\n",
       "      <th>2018</th>\n",
       "      <td>39</td>\n",
       "    </tr>\n",
       "    <tr>\n",
       "      <th>2019</th>\n",
       "      <td>124</td>\n",
       "    </tr>\n",
       "    <tr>\n",
       "      <th>2020</th>\n",
       "      <td>112</td>\n",
       "    </tr>\n",
       "  </tbody>\n",
       "</table>\n",
       "</div>"
      ],
      "text/plain": [
       "            checkin_id\n",
       "created_at            \n",
       "2017                13\n",
       "2018                39\n",
       "2019               124\n",
       "2020               112"
      ]
     },
     "metadata": {},
     "output_type": "display_data"
    },
    {
     "data": {
      "text/plain": [
       "<AxesSubplot:xlabel='created_at'>"
      ]
     },
     "execution_count": 68,
     "metadata": {},
     "output_type": "execute_result"
    },
    {
     "data": {
      "image/png": "[encoded data removed]",
      "text/plain": [
       "<Figure size 432x288 with 1 Axes>"
      ]
     },
     "metadata": {
      "needs_background": "light"
     },
     "output_type": "display_data"
    }
   ],
   "source": [
    "a =  brew_df[brew_df.venue_country == \"Belarus\"]\n",
    "Style1 = a[a.beer_style==\"Sour - Fruited\"].groupby(\"created_at\").agg({\"checkin_id\":\"count\"})\n",
    "\n",
    "display(Style1)\n",
    "Style1.plot(kind='bar')"
   ]
  },
  {
   "cell_type": "code",
   "execution_count": 70,
   "metadata": {},
   "outputs": [
    {
     "data": {
      "text/html": [
       "<div>\n",
       "<style scoped>\n",
       "    .dataframe tbody tr th:only-of-type {\n",
       "        vertical-align: middle;\n",
       "    }\n",
       "\n",
       "    .dataframe tbody tr th {\n",
       "        vertical-align: top;\n",
       "    }\n",
       "\n",
       "    .dataframe thead th {\n",
       "        text-align: right;\n",
       "    }\n",
       "</style>\n",
       "<table border=\"1\" class=\"dataframe\">\n",
       "  <thead>\n",
       "    <tr style=\"text-align: right;\">\n",
       "      <th></th>\n",
       "      <th>checkin_id</th>\n",
       "    </tr>\n",
       "    <tr>\n",
       "      <th>created_at</th>\n",
       "      <th></th>\n",
       "    </tr>\n",
       "  </thead>\n",
       "  <tbody>\n",
       "    <tr>\n",
       "      <th>2017</th>\n",
       "      <td>1</td>\n",
       "    </tr>\n",
       "    <tr>\n",
       "      <th>2018</th>\n",
       "      <td>23</td>\n",
       "    </tr>\n",
       "    <tr>\n",
       "      <th>2019</th>\n",
       "      <td>80</td>\n",
       "    </tr>\n",
       "    <tr>\n",
       "      <th>2020</th>\n",
       "      <td>26</td>\n",
       "    </tr>\n",
       "  </tbody>\n",
       "</table>\n",
       "</div>"
      ],
      "text/plain": [
       "            checkin_id\n",
       "created_at            \n",
       "2017                 1\n",
       "2018                23\n",
       "2019                80\n",
       "2020                26"
      ]
     },
     "metadata": {},
     "output_type": "display_data"
    },
    {
     "data": {
      "text/plain": [
       "<AxesSubplot:xlabel='created_at'>"
      ]
     },
     "execution_count": 70,
     "metadata": {},
     "output_type": "execute_result"
    },
    {
     "data": {
      "image/png": "[encoded data removed]",
      "text/plain": [
       "<Figure size 432x288 with 1 Axes>"
      ]
     },
     "metadata": {
      "needs_background": "light"
     },
     "output_type": "display_data"
    }
   ],
   "source": [
    "a =  brew_df[brew_df.venue_country == \"Belarus\"]\n",
    "Style2 = a[a.beer_style==\"Sour - Fruited Gose\"].groupby(\"created_at\").agg({\"checkin_id\":\"count\"})\n",
    "\n",
    "display(Style2)\n",
    "Style2.plot(kind='bar')"
   ]
  },
  {
   "cell_type": "code",
   "execution_count": null,
   "metadata": {},
   "outputs": [],
   "source": []
  }
 ],
 "metadata": {
  "kernelspec": {
   "display_name": "Python 3",
   "language": "python",
   "name": "python3"
  },
  "language_info": {
   "codemirror_mode": {
    "name": "ipython",
    "version": 3
   },
   "file_extension": ".py",
   "mimetype": "text/x-python",
   "name": "python",
   "nbconvert_exporter": "python",
   "pygments_lexer": "ipython3",
   "version": "3.8.5"
  }
 },
 "nbformat": 4,
 "nbformat_minor": 4
}
